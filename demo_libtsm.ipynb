{
 "cells": [
  {
   "cell_type": "markdown",
   "metadata": {},
   "source": [
    "# libtsm - a Python Library for Time-Scale Modification and Pitch-Shifting"
   ]
  },
  {
   "cell_type": "markdown",
   "metadata": {},
   "source": [
    "This notebook demonstrates the functionalities of **libtsm** - a Python library for Time-Scale Modification (TSM) and pitch-shifting. It is based on a re-implementation of the Matlab TSM toolbox by Jonathan Driedger and Meinard Müller\n",
    "\n",
    "If you are using **libtsm** for your work, please cite:\n",
    "\n",
    "Sebastian Rosenzweig, Simon Schwär, Jonathan Driedger, and Meinard Müller:<br>\n",
    "**Adaptive Pitch-Shifting with Applications to Intonation Adjustment in A Cappella Recordings**<br>\n",
    "Proceedings of the International Conference on Digital Audio Effects (DAFx), 2021.\n",
    "\n",
    "Further contributors:\n",
    " <ul>\n",
    "  <li>Edgar Suarez</li>\n",
    "  <li>El Mehdi Lemnaouar</li>\n",
    "  <li>Miguel Gonzales</li>\n",
    "</ul>"
   ]
  },
  {
   "cell_type": "code",
   "execution_count": null,
   "metadata": {},
   "outputs": [],
   "source": [
    "import numpy as np\n",
    "import librosa\n",
    "import IPython.display as ipd\n",
    "import scipy.io as sio\n",
    "\n",
    "import libtsm"
   ]
  },
  {
   "cell_type": "code",
   "execution_count": null,
   "metadata": {},
   "outputs": [],
   "source": [
    "# Choose File\n",
    "#filename = 'Bongo'\n",
    "#filename = 'BeethovenOrchestra'\n",
    "#filename = 'BeethovenPiano'\n",
    "filename = 'CastanetsViolin'\n",
    "#filename = 'DrumSolo'\n",
    "#filename = 'Glockenspiel'\n",
    "#filename = 'Stepdad'\n",
    "#filename = 'Jazz'\n",
    "#filename = 'Pop'\n",
    "#filename = 'SingingVoice'\n",
    "#filename = 'SynthMono'\n",
    "#filename = 'SynthPoly'\n",
    "#filename = 'Scale_Cmajor_Piano'\n",
    "\n",
    "directory = './data/'\n",
    "audio_file = directory + filename + '.wav'\n",
    "x, Fs = librosa.load(audio_file)\n",
    "#x = 0.5 * np.sin(2*np.pi*440*np.arange(0, len(x)/Fs, 1/Fs))\n",
    "\n",
    "print('Original signal', flush=True)\n",
    "ipd.display(ipd.Audio(x, rate=Fs, normalize=True))"
   ]
  },
  {
   "cell_type": "markdown",
   "metadata": {},
   "source": [
    "### Overlap-Add (OLA)"
   ]
  },
  {
   "cell_type": "code",
   "execution_count": null,
   "metadata": {},
   "outputs": [],
   "source": [
    "alpha = 1.8  # time-stretch factor\n",
    "y_ola = libtsm.wsola_tsm(x, alpha, tol=0)\n",
    "\n",
    "print('Original signal', flush=True)\n",
    "ipd.display(ipd.Audio(x, rate=Fs, normalize=True))\n",
    "\n",
    "print('Time-Scale modified signal with OLA', flush=True)\n",
    "ipd.display(ipd.Audio(y_ola[:, 0], rate=Fs, normalize=True))"
   ]
  },
  {
   "cell_type": "markdown",
   "metadata": {},
   "source": [
    "### Waveform Similarity Overlap-Add (WSOLA)"
   ]
  },
  {
   "cell_type": "code",
   "execution_count": null,
   "metadata": {},
   "outputs": [],
   "source": [
    "alpha = 1.8  # time-stretch factor\n",
    "y_wsola = libtsm.wsola_tsm(x, alpha)\n",
    "\n",
    "print('Original signal', flush=True)\n",
    "ipd.display(ipd.Audio(x, rate=Fs, normalize=True))\n",
    "\n",
    "print('Time-Scale modified signal with WSOLA', flush=True)\n",
    "ipd.display(ipd.Audio(y_wsola[:, 0], rate=Fs, normalize=True))"
   ]
  },
  {
   "cell_type": "markdown",
   "metadata": {},
   "source": [
    "### Phase Vocoder TSM"
   ]
  },
  {
   "cell_type": "code",
   "execution_count": null,
   "metadata": {},
   "outputs": [],
   "source": [
    "alpha = 1.8  # Time stretching factor\n",
    "y_pv = libtsm.pv_tsm(x, alpha, phase_locking=False)\n",
    "y_pvpl = libtsm.pv_tsm(x, alpha, phase_locking=True)\n",
    "\n",
    "print('Original signal', flush=True)\n",
    "ipd.display(ipd.Audio(x, rate=Fs, normalize=True))\n",
    "\n",
    "print('Time-Scale modified signal with Phase Vocoder', flush=True)\n",
    "ipd.display(ipd.Audio(y_pv[:, 0], rate=Fs, normalize=True))\n",
    "\n",
    "print('Time-Scale modified signal with Phase Vocoder (phase locking)', flush=True)\n",
    "ipd.display(ipd.Audio(y_pvpl[:, 0], rate=Fs, normalize=True))"
   ]
  },
  {
   "cell_type": "markdown",
   "metadata": {},
   "source": [
    "### TSM based on Harmonic-Percussive Separation"
   ]
  },
  {
   "cell_type": "code",
   "execution_count": null,
   "metadata": {},
   "outputs": [],
   "source": [
    "alpha = 1.8\n",
    "\n",
    "# Harmonic-Percussive Separation\n",
    "x_harm, x_perc = libtsm.hps(x)\n",
    "\n",
    "# Phase Vocoder for harmonic part\n",
    "y_harm = libtsm.pv_tsm(x_harm, alpha)\n",
    "\n",
    "# OLA for percussive part\n",
    "y_perc = libtsm.wsola_tsm(x_perc, alpha, tol=0)\n",
    "\n",
    "# Synthesis\n",
    "y = y_harm + y_perc\n",
    "\n",
    "\n",
    "print('Original signal', flush=True)\n",
    "ipd.display(ipd.Audio(x, rate=Fs, normalize=True))\n",
    "\n",
    "print('Harmonic part', flush=True)\n",
    "ipd.display(ipd.Audio(x_harm[:, 0], rate=Fs, normalize=True))\n",
    "\n",
    "print('Percussive part', flush=True)\n",
    "ipd.display(ipd.Audio(x_perc[:, 0], rate=Fs, normalize=True))\n",
    "\n",
    "print('Time-Scale modified harmonic part', flush=True)\n",
    "ipd.display(ipd.Audio(y_harm[:, 0], rate=Fs, normalize=True))\n",
    "\n",
    "print('Time-Scale modified percussive part', flush=True)\n",
    "ipd.display(ipd.Audio(y_perc[:, 0], rate=Fs, normalize=True))\n",
    "\n",
    "print('Time-Scale modified signal (HPS-TSM)', flush=True)\n",
    "ipd.display(ipd.Audio(y[:, 0], rate=Fs, normalize=True))"
   ]
  },
  {
   "cell_type": "markdown",
   "metadata": {},
   "source": [
    "### Efficient Two-Step TSM"
   ]
  },
  {
   "cell_type": "code",
   "execution_count": null,
   "metadata": {},
   "outputs": [],
   "source": [
    "alpha = 4.1\n",
    "y_two_steps = libtsm.two_step_tsm(x, alpha)\n",
    "\n",
    "print('Original signal', flush=True)\n",
    "ipd.display(ipd.Audio(x, rate=Fs, normalize=True))\n",
    "\n",
    "print('Time-Scale modified signal with efficient two-step approach', flush=True)\n",
    "ipd.display(ipd.Audio(y_two_steps[:, 0], rate=Fs, normalize=True))"
   ]
  },
  {
   "cell_type": "markdown",
   "metadata": {},
   "source": [
    "### Non-linear TSM"
   ]
  },
  {
   "cell_type": "code",
   "execution_count": null,
   "metadata": {},
   "outputs": [],
   "source": [
    "# load two audio files\n",
    "audio_file1 = directory + 'BeethovenOrchestra.wav'\n",
    "audio_file2 = directory + 'BeethovenPiano.wav'\n",
    "\n",
    "x1, Fs1 = librosa.load(audio_file1)\n",
    "x2, Fs2 = librosa.load(audio_file2)\n",
    "\n",
    "# extract anchor points from .MAT file\n",
    "mat_file = directory + 'BeethovenAnchorpoints.mat'\n",
    "mat = sio.loadmat(mat_file)\n",
    "anchors = mat['anchorpoints'] - 1  # substract 1 for Python version\n",
    "print(anchors)\n",
    "\n",
    "# HPS-TSM using anchorpoints to synchronize Orchestra with Piano file\n",
    "y_hpstsm = libtsm.hps_tsm(x1, anchors)\n",
    "\n",
    "y = np.hstack((x2.reshape(-1, 1), y_hpstsm))\n",
    "\n",
    "print('Original signal 1', flush=True)\n",
    "ipd.display(ipd.Audio(x1, rate=Fs, normalize=True))\n",
    "\n",
    "print('Original signal 2', flush=True)\n",
    "ipd.display(ipd.Audio(x2, rate=Fs, normalize=True))\n",
    "\n",
    "print('Synchronized versions', flush=True)\n",
    "ipd.display(ipd.Audio(y.T, rate=Fs, normalize=True))"
   ]
  },
  {
   "cell_type": "markdown",
   "metadata": {},
   "source": [
    "### Pitch-Shifting via TSM and resampling"
   ]
  },
  {
   "cell_type": "code",
   "execution_count": null,
   "metadata": {},
   "outputs": [],
   "source": [
    "p = 100\n",
    "y_pitch_shift_1 = libtsm.pitch_shift_original(x, p)  # Matlab-inspired implementation\n",
    "y_pitch_shift_2 = libtsm.pitch_shift(x, p, order=\"res-tsm\")  # new implementation for fixed and adaptive pitch shifts\n",
    "y_pitch_shift_3 = libtsm.pitch_shift(x, p, order=\"tsm-res\")  # new implementation for fixed and adaptive pitch shifts\n",
    "\n",
    "print('Original signal', flush=True)\n",
    "ipd.display(ipd.Audio(x, rate=Fs, normalize=True))\n",
    "\n",
    "print('Pitch-shifted signal using Matlab re-implementation', flush=True)\n",
    "ipd.display(ipd.Audio(y_pitch_shift_1[:, 0], rate=Fs, normalize=True))\n",
    "\n",
    "print('Pitch-shifted signal using new implementation (Resampling-TSM)', flush=True)\n",
    "ipd.display(ipd.Audio(y_pitch_shift_2[:, 0], rate=Fs, normalize=True))\n",
    "\n",
    "print('Pitch-shifted signal using new implementation (TSM-Resampling)', flush=True)\n",
    "ipd.display(ipd.Audio(y_pitch_shift_3[:, 0], rate=Fs, normalize=True))"
   ]
  },
  {
   "cell_type": "markdown",
   "metadata": {},
   "source": [
    "### Non-linear TSM Pitch Shift"
   ]
  },
  {
   "cell_type": "code",
   "execution_count": null,
   "metadata": {},
   "outputs": [],
   "source": [
    "# input signal\n",
    "sig_len = 10  # seconds\n",
    "Fs = 22050  # Hz\n",
    "t_sine = np.arange(0, sig_len, 1/Fs)\n",
    "F_sine = 440\n",
    "sine = np.sin(2*np.pi*F_sine*t_sine)\n",
    "\n",
    "# time-varying pitch-shift (sinusoidal)\n",
    "F_shift =  1  # Hz\n",
    "p = np.sin(2*np.pi*F_shift*t_sine) * 200\n",
    "\n",
    "# pitch-shifting\n",
    "siren = libtsm.pitch_shift(sine, p, t_p=t_sine)\n",
    "\n",
    "print('Original signal')\n",
    "ipd.display(ipd.Audio(sine, rate=Fs, normalize=True))\n",
    "\n",
    "print('Pitch-shifted signal')\n",
    "ipd.display(ipd.Audio(siren[:, 0], rate=Fs, normalize=True))"
   ]
  },
  {
   "cell_type": "markdown",
   "metadata": {},
   "source": [
    "### Paper Example"
   ]
  },
  {
   "cell_type": "code",
   "execution_count": null,
   "metadata": {},
   "outputs": [],
   "source": [
    "# Load Audio File\n",
    "fn_in = 'data/three_sinusoidals.wav'\n",
    "x, Fs = librosa.load(fn_in, sr=22050)\n",
    "\n",
    "# TSM Algorithms\n",
    "alpha = 1.8  # scaling factor\n",
    "\n",
    "y_wsola = libtsm.wsola_tsm(x, alpha)\n",
    "y_pv = libtsm.pv_tsm(x, alpha)\n",
    "y_hps = libtsm.hps_tsm(x, alpha)\n",
    "\n",
    "# Fixed Pitch-Shifting (Figure 2)\n",
    "p = 1200  # cents\n",
    "y_psf = libtsm.pitch_shift(x, p)\n",
    "\n",
    "# Adaptive Pitch-Shifting (Figure 3)\n",
    "t = np.arange(0, len(x)/Fs, 1/Fs)  # sec\n",
    "N = len(t)\n",
    "t_1 = t[0:N//3]\n",
    "t_2 = t[N//3:2*N//3]\n",
    "t_3 = t[2*N//3:]\n",
    "\n",
    "p = np.concatenate((np.zeros(len(t_1)), 800*np.sin(2*np.pi*1*t_2), np.linspace(0, 1200, len(t_3))))  # cents\n",
    "\n",
    "y_psa = libtsm.pitch_shift(x, p, t)\n",
    "\n",
    "\n",
    "print('Original signal')\n",
    "ipd.display(ipd.Audio(x, rate=Fs, normalize=True))\n",
    "\n",
    "print('Pitch-shifted signal (Figure 2)')\n",
    "ipd.display(ipd.Audio(y_psf[:, 0], rate=Fs, normalize=True))\n",
    "\n",
    "print('Pitch-shifted signal (Figure 3)')\n",
    "ipd.display(ipd.Audio(y_psa[:, 0], rate=Fs, normalize=True))"
   ]
  },
  {
   "cell_type": "code",
   "execution_count": null,
   "metadata": {},
   "outputs": [],
   "source": []
  }
 ],
 "metadata": {
  "kernelspec": {
   "display_name": "Python 3",
   "language": "python",
   "name": "python3"
  },
  "language_info": {
   "codemirror_mode": {
    "name": "ipython",
    "version": 3
   },
   "file_extension": ".py",
   "mimetype": "text/x-python",
   "name": "python",
   "nbconvert_exporter": "python",
   "pygments_lexer": "ipython3",
   "version": "3.8.10"
  }
 },
 "nbformat": 4,
 "nbformat_minor": 4
}
